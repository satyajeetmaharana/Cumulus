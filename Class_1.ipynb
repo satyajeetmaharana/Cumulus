{
  "nbformat": 4,
  "nbformat_minor": 0,
  "metadata": {
    "colab": {
      "name": "Copy of Class 1.ipynb",
      "provenance": [],
      "include_colab_link": true
    },
    "kernelspec": {
      "name": "python3",
      "display_name": "Python 3"
    }
  },
  "cells": [
    {
      "cell_type": "markdown",
      "metadata": {
        "id": "view-in-github",
        "colab_type": "text"
      },
      "source": [
        "<a href=\"https://colab.research.google.com/github/satyajeetmaharana/Cumulus/blob/master/Class_1.ipynb\" target=\"_parent\"><img src=\"https://colab.research.google.com/assets/colab-badge.svg\" alt=\"Open In Colab\"/></a>"
      ]
    },
    {
      "cell_type": "markdown",
      "metadata": {
        "id": "CmnN1YzDYa5c",
        "colab_type": "text"
      },
      "source": [
        "\n",
        "# program name: webapi02\n",
        "# Web API Exercise 02  from class 20200129\n",
        "\n",
        " Take the program from exercise 01\n",
        " Save the selected information from each host\n",
        " Upon completion, store the saved information as a\n",
        "   CSV (comma-separated values) spreadsheet,\n",
        "   sorted by host, with headers.\n",
        " Open the spreadsheet with Microsoft Excel\n",
        "   or similar spreadsheet program\n",
        "\n",
        "# Web API Exercise 01\n",
        " Write a Python program that repeatedly accepts a Internet host name\n",
        " from the keyboard\n",
        "   (I have corrected the terminology:\n",
        "   host name, not \"domain name or URL.\"\n",
        "   A host name can be a subdomain.\n",
        "   It is not a URL, and it does not start with the protocol prefix \"http\",\n",
        "   & it does not contain colons \":\", or slashes \"/\".)\n",
        " For each host, find the IP address, using:\n",
        "   import socket\n",
        "   ipaddr = socket.gethostbyname(host)\n",
        " Find info about IP address in JSON from API:\n",
        "   url = 'http://ip-api.com/json/{}’.format(ipaddr)\n",
        " Print selected information neatly.\n",
        " Include at least host, IP address, country, regionName, city\n",
        " Repeat\n",
        "\n",
        " modules:\n",
        " urlopen from Urllib.request: gets object given a URL\n",
        " json: encode and decode JSON (JavaScript Object Notation)\n",
        " socket: access to network interface\n",
        "   in this program, to query DNS (Domain Name Service)\n",
        " csv: read and write CSV (comma-separated values) files"
      ]
    },
    {
      "cell_type": "code",
      "metadata": {
        "id": "hiV4ZVHGXhrv",
        "colab_type": "code",
        "outputId": "f98c415b-77ab-4ebf-d8dc-305f157ef426",
        "colab": {
          "base_uri": "https://localhost:8080/",
          "height": 289
        }
      },
      "source": [
        "#!/usr/bin/env python\n",
        "# program name: webapi02\n",
        "# Web API Exercise 02  from class 20200129\n",
        "\n",
        "# Take the program from exercise 01\n",
        "# Save the selected information from each host\n",
        "# Upon completion, store the saved information as a\n",
        "#   CSV (comma-separated values) spreadsheet,\n",
        "#   sorted by host, with headers.\n",
        "# Open the spreadsheet with Microsoft Excel\n",
        "#   or similar spreadsheet program\n",
        "\n",
        "from urllib.request import urlopen\n",
        "import json, socket, csv\n",
        "\n",
        "# initialize table as empty list\n",
        "#   table will be list of rows\n",
        "#   each row will be ordered list of values\n",
        "hostTable = []\n",
        "\n",
        "while(True): # start infinite loop\n",
        "    # request host name; Enter (empty string) ends program\n",
        "    host = input('Host (Enter to end)?')\n",
        "    if not host:\n",
        "        break # exit loop\n",
        "    \n",
        "    try:\n",
        "        # given a host name,\n",
        "        # query DNS (Domain Name Service) for host IP address\n",
        "        ipaddr = socket.gethostbyname(host)\n",
        "    except:\n",
        "        # query failed, print message and try again\n",
        "        print('Invalid host \"{}\" or bad connection\\n'.format(host))\n",
        "        continue # loop again\n",
        "    \n",
        "    # insert IP address in API endpoint URL\n",
        "    # \"json\" in URL requests JSON (JavaScript Object Notation) response\n",
        "    #   (other options are \"xml\" (XML, Extensible Markup Language)\n",
        "    #    and \"csv\" (CSV, comma-separated values))\n",
        "    url = 'http://ip-api.com/json/{}'.format(ipaddr)\n",
        "    \n",
        "    # get data from API\n",
        "    hostInfoJson = urlopen(url).read().decode('utf-8')\n",
        "    \n",
        "    # parse JSON string into Python dictionary\n",
        "    hostInfoDic = json.loads(hostInfoJson)\n",
        "    # dictionary keys are:\n",
        "    #   'status', 'country', 'countryCode', 'region', 'regionName', 'city',\n",
        "    #   'zip', 'lat', 'lon', 'timezone', 'isp', 'org', 'as', 'query'\n",
        "    # hostInfoDic['query'] == IP address\n",
        "\n",
        "    # print selected info\n",
        "    print('''Host: {}  IP address: {query}\n",
        "{city}, {regionName}, {country}\n",
        "'''.format(host, **hostInfoDic))\n",
        "    \n",
        "    # fill row with values in order\n",
        "    hostRow = [host, ipaddr]\n",
        "    for key in 'city|regionName|country'.split('|'):\n",
        "        hostRow.append(hostInfoDic[key])\n",
        "    # add row to table\n",
        "    hostTable.append(hostRow)\n",
        "    # loop again\n",
        "    \n",
        "if not hostTable:\n",
        "    print('hostTable empty')\n",
        "else:\n",
        "    # sort hostTable by host name (first value in each row)\n",
        "    hostTable.sort()\n",
        "    # create table header and insert at beginning\n",
        "    header = 'Host|IP address|City|Region|Country'.split('|')\n",
        "    hostTable.insert(0, header)\n",
        "    # write table as CSV (comma-separated values) spreadsheet\n",
        "    with open('hostTable.csv', 'w', newline='') as fout:\n",
        "        writer = csv.writer(fout)\n",
        "        writer.writerows(hostTable)\n",
        "              \n",
        "    \n",
        "\n",
        "          \n",
        "    \n"
      ],
      "execution_count": 0,
      "outputs": [
        {
          "output_type": "stream",
          "text": [
            "Host (Enter to end)?Amazon.com\n",
            "Host: Amazon.com  IP address: 176.32.103.205\n",
            "Ashburn, Virginia, United States\n",
            "\n",
            "Host (Enter to end)?Google\n",
            "Invalid host \"Google\" or bad connection\n",
            "\n",
            "Host (Enter to end)?google.com\n",
            "Host: google.com  IP address: 172.217.212.101\n",
            "Ashburn, Virginia, United States\n",
            "\n",
            "Host (Enter to end)?Facebook.com\n",
            "Host: Facebook.com  IP address: 157.240.18.35\n",
            "Northway, Alaska, United States\n",
            "\n",
            "Host (Enter to end)?\n"
          ],
          "name": "stdout"
        }
      ]
    },
    {
      "cell_type": "code",
      "metadata": {
        "id": "EgfJaUiJYtQ5",
        "colab_type": "code",
        "colab": {}
      },
      "source": [
        ""
      ],
      "execution_count": 0,
      "outputs": []
    }
  ]
}